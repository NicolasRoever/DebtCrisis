{
 "cells": [
  {
   "cell_type": "code",
   "execution_count": null,
   "metadata": {},
   "outputs": [],
   "source": [
    "import pandas as pd"
   ]
  },
  {
   "cell_type": "code",
   "execution_count": null,
   "metadata": {},
   "outputs": [],
   "source": [
    "data = pd.read_csv(\n",
    "    \"/Users/nicolasroever/Documents/Promotion/Debt Crisis/debt_crisis/src/debt_crisis/data/financial_data/cip_dataset_v3.csv\",\n",
    ")"
   ]
  },
  {
   "cell_type": "code",
   "execution_count": null,
   "metadata": {},
   "outputs": [],
   "source": [
    "data[data[\"tenor\"] == \"10y\"].sort_values(by=\"date\", ascending=True).head(10)"
   ]
  },
  {
   "cell_type": "code",
   "execution_count": null,
   "metadata": {},
   "outputs": [],
   "source": [
    "data[\"date\"] = pd.to_datetime(data[\"date\"], format=\"%d%b%Y\")"
   ]
  },
  {
   "cell_type": "code",
   "execution_count": null,
   "metadata": {},
   "outputs": [],
   "source": [
    "data.head()"
   ]
  },
  {
   "cell_type": "code",
   "execution_count": null,
   "metadata": {},
   "outputs": [],
   "source": [
    "fiscal_data = pd.read_excel(\n",
    "    \"/Users/nicolasroever/Documents/Promotion/Debt Crisis/debt_crisis/src/debt_crisis/data/financial_data/Fiscal-space-data.xlsx\",\n",
    ")"
   ]
  },
  {
   "cell_type": "code",
   "execution_count": null,
   "metadata": {},
   "outputs": [],
   "source": [
    "fiscal_data.head()"
   ]
  },
  {
   "cell_type": "code",
   "execution_count": null,
   "metadata": {},
   "outputs": [],
   "source": [
    "import pandas as pd\n",
    "\n",
    "# List of sheet names\n",
    "sheets = [\n",
    "    \"ggdy\",\n",
    "    \"pby\",\n",
    "    \"cby\",\n",
    "    \"fby\",\n",
    "    \"dfggd\",\n",
    "    \"dffb\",\n",
    "    \"ggdma\",\n",
    "    \"fbma\",\n",
    "    \"fxsovsh\",\n",
    "    \"secnres\",\n",
    "    \"fordebtsh\",\n",
    "    \"concggd\",\n",
    "    \"avglife\",\n",
    "    \"debtduey\",\n",
    "    \"xtdebty\",\n",
    "    \"fxdebtall\",\n",
    "    \"prdebty\",\n",
    "    \"pscy\",\n",
    "    \"stdebtall\",\n",
    "    \"stdebtres\",\n",
    "    \"xtdebtres\",\n",
    "    \"xtdebtrxg\",\n",
    "    \"sovrate\",\n",
    "]\n",
    "\n",
    "# List of year columns\n",
    "years = [str(year) for year in range(1990, 2023)]\n",
    "\n",
    "# Initialize an empty list to store the dataframes\n",
    "dfs = []\n",
    "\n",
    "# Loop over the sheet names\n",
    "for sheet in sheets:\n",
    "    # Read the sheet into a dataframe\n",
    "    df = pd.read_excel(\n",
    "        \"/Users/nicolasroever/Documents/Promotion/Debt Crisis/debt_crisis/src/debt_crisis/data/financial_data/Fiscal-space-data.xlsx\",\n",
    "        sheet_name=sheet,\n",
    "    )\n",
    "\n",
    "    # Keep only the 'Country Code' column, the year columns, and add a column with the variable name\n",
    "    df = df[[\"Country Code\", *years]]\n",
    "    df[\"Variable\"] = sheet\n",
    "\n",
    "    # Append the dataframe to the list\n",
    "    dfs.append(df)\n",
    "\n",
    "# Concatenate all dataframes in the list\n",
    "data = pd.concat(dfs)"
   ]
  },
  {
   "cell_type": "code",
   "execution_count": null,
   "metadata": {},
   "outputs": [],
   "source": [
    "data.head()"
   ]
  },
  {
   "cell_type": "code",
   "execution_count": null,
   "metadata": {},
   "outputs": [],
   "source": [
    "# Reshape the data to long format\n",
    "data = data.melt(\n",
    "    id_vars=[\"Country Code\", \"Variable\"],\n",
    "    var_name=\"Year\",\n",
    "    value_name=\"Value\",\n",
    ")"
   ]
  },
  {
   "cell_type": "code",
   "execution_count": null,
   "metadata": {},
   "outputs": [],
   "source": [
    "wide_data = data.pivot_table(\n",
    "    index=[\"Country Code\", \"Year\"],\n",
    "    columns=\"Variable\",\n",
    "    values=\"Value\",\n",
    ").reset_index()"
   ]
  },
  {
   "cell_type": "code",
   "execution_count": null,
   "metadata": {},
   "outputs": [],
   "source": []
  },
  {
   "cell_type": "code",
   "execution_count": null,
   "metadata": {},
   "outputs": [],
   "source": [
    "wide_data.tail()"
   ]
  },
  {
   "cell_type": "code",
   "execution_count": null,
   "metadata": {},
   "outputs": [],
   "source": [
    "# Repeat each row four times\n",
    "wide_data = wide_data.loc[wide_data.index.repeat(4)].reset_index(drop=True)\n",
    "\n",
    "# Add a 'Quarter' column\n",
    "wide_data[\"Quarter\"] = wide_data.groupby([\"Country Code\", \"Year\"]).cumcount() + 1\n",
    "\n",
    "# Convert 'Year' and 'Quarter' to datetime\n",
    "wide_data[\"Date\"] = pd.to_datetime(\n",
    "    wide_data[\"Year\"].astype(str) + \"Q\" + wide_data[\"Quarter\"].astype(str),\n",
    ")\n",
    "\n",
    "# Keep only the end of quarter dates\n",
    "wide_data[\"Date\"] = wide_data[\"Date\"] + pd.offsets.QuarterEnd()\n",
    "\n",
    "# Drop the 'Year' and 'Quarter' columns\n",
    "wide_data = wide_data.drop([\"Year\", \"Quarter\"], axis=1)"
   ]
  },
  {
   "cell_type": "code",
   "execution_count": null,
   "metadata": {},
   "outputs": [],
   "source": [
    "wide_data.head()"
   ]
  }
 ],
 "metadata": {
  "language_info": {
   "codemirror_mode": {
    "name": "ipython",
    "version": 3
   },
   "file_extension": ".py",
   "mimetype": "text/x-python",
   "name": "python",
   "nbconvert_exporter": "python",
   "pygments_lexer": "ipython3"
  }
 },
 "nbformat": 4,
 "nbformat_minor": 2
}
