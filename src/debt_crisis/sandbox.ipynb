{
 "cells": [
  {
   "cell_type": "code",
   "execution_count": null,
   "metadata": {},
   "outputs": [],
   "source": [
    "import matplotlib.pyplot as plt\n",
    "import pandas as pd\n",
    "import requests\n",
    "import seaborn as sns\n",
    "import xmltodict"
   ]
  },
  {
   "cell_type": "code",
   "execution_count": null,
   "metadata": {},
   "outputs": [],
   "source": [
    "event_study_coefficients = pd.read_pickle(\n",
    "    \"/Users/nicolasroever/Documents/Promotion/Debt Crisis/debt_crisis/bld/data/event_study_approach/event_study_coefficients_data.pkl\",\n",
    ")"
   ]
  },
  {
   "cell_type": "code",
   "execution_count": null,
   "metadata": {},
   "outputs": [],
   "source": [
    "event_study_coefficients.head()"
   ]
  },
  {
   "cell_type": "code",
   "execution_count": null,
   "metadata": {},
   "outputs": [],
   "source": [
    "event_study_data = pd.read_pickle(\n",
    "    \"/Users/nicolasroever/Documents/Promotion/Debt Crisis/debt_crisis/bld/data/event_study_approach/event_study_dataset.pkl\",\n",
    ")"
   ]
  },
  {
   "cell_type": "code",
   "execution_count": null,
   "metadata": {},
   "outputs": [],
   "source": [
    "def plot_sentiment_index_and_bond_yield_spread_for_country(\n",
    "    first_step_regression_data,\n",
    "    country,\n",
    "    color_scheme=None,\n",
    "):\n",
    "    # Filter the data for the given country\n",
    "    if color_scheme is None:\n",
    "        color_scheme = [\"#3c5488\", \"#e64b35\", \"#4dbbd5\", \"#00a087\", \"#f39b7f\"]\n",
    "    country_data = first_step_regression_data[\n",
    "        first_step_regression_data[\"Country\"] == country\n",
    "    ]\n",
    "    country_data = country_data.sort_values(\"Date\")\n",
    "\n",
    "    # Set the style of the plot\n",
    "    sns.set_style(\"white\")\n",
    "\n",
    "    # Create the plot\n",
    "    fig, ax1 = plt.subplots(figsize=(8, 5))\n",
    "\n",
    "    ax1.plot(\n",
    "        country_data[\"Date\"],\n",
    "        country_data[\"Bond_Yield_Spread\"],\n",
    "        marker=\"o\",\n",
    "        color=color_scheme[0],\n",
    "        label=f\"Bond Yield Spread {country.capitalize()} \",\n",
    "    )\n",
    "    ax1.set_ylabel(\"Bond Yield Spread in Basis Points\", fontsize=14)\n",
    "\n",
    "    ax2 = ax1.twinx()\n",
    "    ax2.plot(\n",
    "        country_data[\"Date\"],\n",
    "        country_data[\"McDonald_Sentiment_Index\"],\n",
    "        marker=\"o\",\n",
    "        color=color_scheme[1],\n",
    "        label=f\"Sentiment Index {country.capitalize()} \",\n",
    "    )\n",
    "    ax2.set_ylabel(\"Sentiment Index\", fontsize=14)\n",
    "    ax2.invert_yaxis()  # Invert the right y-axis\n",
    "\n",
    "    # Add a horizontal line at y=0\n",
    "\n",
    "    # Set the title and labels\n",
    "    plt.title(\n",
    "        f\"Raw Sentiment Data {country.capitalize()} with Bond Yield Spread for {country.capitalize()} \",\n",
    "        fontsize=16,\n",
    "    )\n",
    "    plt.xlabel(\"Date\", fontsize=14)\n",
    "\n",
    "    # Keep only the y-axis and x-axis\n",
    "    sns.despine(left=False, bottom=False, right=False, top=True)\n",
    "\n",
    "    # Create a legend for both lines\n",
    "    lines, labels = ax1.get_legend_handles_labels()\n",
    "    lines2, labels2 = ax2.get_legend_handles_labels()\n",
    "    ax2.legend(lines + lines2, labels + labels2, loc=\"upper right\")\n",
    "\n",
    "    # Use LaTeX style for the font\n",
    "    plt.rc(\"text\", usetex=True)\n",
    "\n",
    "    # Align the zero of both y-axes\n",
    "\n",
    "    return fig"
   ]
  },
  {
   "cell_type": "code",
   "execution_count": null,
   "metadata": {},
   "outputs": [],
   "source": [
    "fig = plot_sentiment_index_and_bond_yield_spread_for_country(\n",
    "    event_study_data,\n",
    "    \"portugal\",\n",
    ")\n",
    "fig.show()"
   ]
  },
  {
   "cell_type": "code",
   "execution_count": null,
   "metadata": {},
   "outputs": [],
   "source": [
    "portugal_filter = event_study_data[event_study_data[\"Country\"] == \"portugal\"]"
   ]
  },
  {
   "cell_type": "code",
   "execution_count": null,
   "metadata": {},
   "outputs": [],
   "source": [
    "portugal_filter[\"McDonald_Sentiment_Index\"].corr(portugal_filter[\"Bond_Yield_Spread\"])"
   ]
  },
  {
   "cell_type": "code",
   "execution_count": null,
   "metadata": {},
   "outputs": [],
   "source": [
    "pattern = r\"^Dummy_\\w+_\\w+$\"\n",
    "coefficient_data = event_study_data.loc[\n",
    "    event_study_data[\"Variable\"].str.contains(pattern, regex=True),\n",
    "    :,\n",
    "]\n",
    "\n",
    "coefficient_data[\"Date\"] = pd.to_datetime(\n",
    "    coefficient_data[\"Variable\"].str.split(\"_\").str[-1],\n",
    ")\n",
    "coefficient_data[\"Country\"] = coefficient_data[\"Variable\"].str.split(\"_\").str[-2]\n",
    "coefficient_data[\"CI_95_lower\"] = (\n",
    "    coefficient_data[\"Coefficient\"] - coefficient_data[\"Standard Errors\"] * 1.96\n",
    ")\n",
    "coefficient_data[\"CI_95_upper\"] = (\n",
    "    coefficient_data[\"Coefficient\"] + coefficient_data[\"Standard Errors\"] * 1.96\n",
    ")"
   ]
  },
  {
   "cell_type": "code",
   "execution_count": null,
   "metadata": {},
   "outputs": [],
   "source": [
    "coefficient_data.head()"
   ]
  },
  {
   "cell_type": "code",
   "execution_count": null,
   "metadata": {},
   "outputs": [],
   "source": [
    "nature_color_scheme = [\"#3c5488\", \"#e64b35\", \"#4dbbd5\", \"#00a087\", \"#f39b7f\"]"
   ]
  },
  {
   "cell_type": "code",
   "execution_count": null,
   "metadata": {},
   "outputs": [],
   "source": [
    "import matplotlib.pyplot as plt\n",
    "import seaborn as sns\n",
    "\n",
    "# Set the style of the plot\n",
    "sns.set_style(\"white\")\n",
    "\n",
    "# Filter the data for the given country\n",
    "greece_data = coefficient_data[coefficient_data[\"Country\"] == \"greece\"]\n",
    "greece_data = greece_data.sort_values(\"Date\")\n",
    "\n",
    "# Create the plot\n",
    "plt.figure(figsize=(10, 6))\n",
    "plt.plot(\n",
    "    greece_data[\"Date\"],\n",
    "    greece_data[\"Coefficient\"],\n",
    "    marker=\"o\",\n",
    "    color=nature_color_scheme[0],\n",
    ")\n",
    "\n",
    "# Add a horizontal line at y=0\n",
    "plt.axhline(0, color=\"grey\", linestyle=\":\")\n",
    "\n",
    "# Plot the confidence interval\n",
    "plt.fill_between(\n",
    "    greece_data[\"Date\"],\n",
    "    greece_data[\"CI_95_lower\"],\n",
    "    greece_data[\"CI_95_upper\"],\n",
    "    color=\"b\",\n",
    "    alpha=0.1,\n",
    ")\n",
    "\n",
    "# Set the title and labels\n",
    "plt.title(\"Coefficients for Greece Over Time with Confidence Interval\", fontsize=16)\n",
    "plt.xlabel(\"Date\", fontsize=14)\n",
    "plt.ylabel(\"Coefficient\", fontsize=14)\n",
    "\n",
    "# Remove the legend\n",
    "\n",
    "# Keep only the y-axis and x-axis\n",
    "sns.despine(left=False, bottom=False, right=True, top=True)\n",
    "\n",
    "# Use LaTeX style for the font\n",
    "plt.rc(\"text\", usetex=True)\n",
    "\n",
    "# Show the plot\n",
    "plt.show()"
   ]
  },
  {
   "cell_type": "code",
   "execution_count": null,
   "metadata": {},
   "outputs": [],
   "source": [
    "EVENT_STUDY_COUNTRIES = [\n",
    "    \"netherlands\",\n",
    "    \"latvia\",\n",
    "    \"austria\",\n",
    "    \"italy\",\n",
    "    \"finland\",\n",
    "    \"slovenia\",\n",
    "    \"lithuania\",\n",
    "    \"greece\",\n",
    "    \"portugal\",\n",
    "    \"spain\",\n",
    "    \"germany\",\n",
    "    \"belgium\",\n",
    "    \"ireland\",\n",
    "    \"france\",\n",
    "]"
   ]
  },
  {
   "cell_type": "code",
   "execution_count": null,
   "metadata": {},
   "outputs": [],
   "source": [
    "\" + \".join(\n",
    "    [\n",
    "        f\"Dummy_{country}_{quarter}\"\n",
    "        for country in EVENT_STUDY_COUNTRIES\n",
    "        for quarter in pd.period_range(start=\"2009Q1\", end=\"2011Q4\", freq=\"Q\")\n",
    "    ],\n",
    ")"
   ]
  },
  {
   "cell_type": "code",
   "execution_count": null,
   "metadata": {},
   "outputs": [],
   "source": [
    "formula = (\n",
    "    \"Bond_Yield_Spread ~ Q('Public_Debt_as_%_of_GDP')+ GDP_in_Current_Prices_Growth + \"\n",
    "    \"GDP_in_Current_Prices_Growth_Lead + Current_Account_in_USD + \"\n",
    "    \"VIX_Daily_Close_Quarterly_Mean + Q('Eurostat_CPI_Annualised Growth_Rate') + \"\n",
    "    \"NASDAQ_Daily_Close_Quarterly_Mean + Q('3_Month_US_Treasury_Yield_Quarterly_Mean')\"\n",
    "    + \" + \".join(\n",
    "        [\n",
    "            f\"Dummy_{country}_{quarter}\"\n",
    "            for country in EVENT_STUDY_COUNTRIES\n",
    "            for quarter in pd.period_range(start=\"2009Q1\", end=\"2009Q4\", freq=\"Q\")\n",
    "        ],\n",
    "    )\n",
    ")"
   ]
  },
  {
   "cell_type": "code",
   "execution_count": null,
   "metadata": {},
   "outputs": [],
   "source": [
    "pd.read_pickle(\n",
    "    \"/Users/nicolasroever/Documents/Promotion/Debt Crisis/debt_crisis/bld/data/event_study_approach/event_study_coefficients_data.pkl\",\n",
    ")"
   ]
  },
  {
   "cell_type": "code",
   "execution_count": null,
   "metadata": {},
   "outputs": [],
   "source": [
    "event_study_data.head()"
   ]
  },
  {
   "cell_type": "code",
   "execution_count": null,
   "metadata": {},
   "outputs": [],
   "source": [
    "def add_quarter_columns(df):\n",
    "    quarters = pd.period_range(start=\"2009Q1\", end=\"2011Q4\", freq=\"Q\")\n",
    "    for quarter in quarters:\n",
    "        start_date = quarter.start_time\n",
    "        end_date = quarter.end_time\n",
    "        df[str(quarter)] = (\n",
    "            (df[\"Date\"] >= start_date)\n",
    "            & (df[\"Date\"] <= end_date)\n",
    "            & (df[\"Country\"] == \"Greece\")\n",
    "        ).astype(int)\n",
    "    return df"
   ]
  },
  {
   "cell_type": "code",
   "execution_count": null,
   "metadata": {},
   "outputs": [],
   "source": [
    "quarterly_data = pd.read_pickle(\n",
    "    \"/Users/nicolasroever/Documents/Promotion/Debt Crisis/debt_crisis/bld/data/step_one_regression_dataset_output_quarterly.pkl\",\n",
    ")"
   ]
  },
  {
   "cell_type": "code",
   "execution_count": null,
   "metadata": {},
   "outputs": [],
   "source": [
    "quarterly_data.columns"
   ]
  },
  {
   "cell_type": "code",
   "execution_count": null,
   "metadata": {},
   "outputs": [],
   "source": [
    "dictionary = pd.read_csv(\n",
    "    \"/Users/nicolasroever/Documents/Promotion/Debt Crisis/debt_crisis/bld/data/sentiment_data/sentiment_word_count_clean.csv\",\n",
    ")"
   ]
  },
  {
   "cell_type": "code",
   "execution_count": null,
   "metadata": {},
   "outputs": [],
   "source": [
    "# Plot positives\n",
    "\n",
    "# Filter the DataFrame\n",
    "filtered_data = dictionary[\n",
    "    (dictionary[\"Positive_Indicator\"] == 1) & (dictionary[\"Count\"] > 600)\n",
    "]\n",
    "\n",
    "# Sort the DataFrame\n",
    "sorted_data = filtered_data.sort_values(by=\"Count\", ascending=False)\n",
    "\n",
    "# Create the plot\n",
    "plt.figure(figsize=(10, 6))\n",
    "plt.barh(sorted_data[\"Word\"], sorted_data[\"Count\"])\n",
    "plt.xlabel(\"Word\")\n",
    "plt.ylabel(\"Count\")\n",
    "plt.title(\"Word Counts for Positive Words\")\n",
    "plt.yticks(fontsize=8)  # Rotate x-axis labels for better readability\n",
    "plt.show()"
   ]
  },
  {
   "cell_type": "code",
   "execution_count": null,
   "metadata": {},
   "outputs": [],
   "source": [
    "# Plot positives\n",
    "\n",
    "# Filter the DataFrame\n",
    "filtered_data_2 = dictionary[\n",
    "    (dictionary[\"Negative_Indicator\"] == 1) & (dictionary[\"Count\"] > 600)\n",
    "]\n",
    "\n",
    "# Sort the DataFrame\n",
    "sorted_data_2 = filtered_data_2.sort_values(by=\"Count\", ascending=False)\n",
    "\n",
    "# Create the plot\n",
    "plt.figure(figsize=(10, 6))\n",
    "plt.barh(sorted_data_2[\"Word\"], sorted_data_2[\"Count\"])\n",
    "plt.xlabel(\"Word\")\n",
    "plt.ylabel(\"Count\")\n",
    "plt.title(\"Word Counts for Negativev Words\")\n",
    "plt.yticks(fontsize=8)  # Rotate x-axis labels for better readability\n",
    "plt.show()"
   ]
  },
  {
   "cell_type": "code",
   "execution_count": null,
   "metadata": {},
   "outputs": [],
   "source": [
    "dictionary.sort_values(by=\"Count\", ascending=False)"
   ]
  },
  {
   "cell_type": "code",
   "execution_count": null,
   "metadata": {},
   "outputs": [],
   "source": []
  },
  {
   "cell_type": "code",
   "execution_count": null,
   "metadata": {},
   "outputs": [],
   "source": [
    "dictionary.T"
   ]
  },
  {
   "cell_type": "code",
   "execution_count": null,
   "metadata": {},
   "outputs": [],
   "source": [
    "dictionary.columns = [\"Word\", \"Count\"]"
   ]
  },
  {
   "cell_type": "code",
   "execution_count": null,
   "metadata": {},
   "outputs": [],
   "source": [
    "COUNTRIES_UNDER_STUDY = {\n",
    "    \"austria\",\n",
    "    \"belgium\",\n",
    "    \"bulgaria\",\n",
    "    \"croatia\",\n",
    "    \"cyprus\",\n",
    "    \"czechia\",\n",
    "    \"denmark\",\n",
    "    \"estonia\",\n",
    "    \"finland\",\n",
    "    \"france\",\n",
    "    \"germany\",\n",
    "    \"greece\",\n",
    "    \"hungary\",\n",
    "    \"ireland\",\n",
    "    \"italy\",\n",
    "    \"latvia\",\n",
    "    \"lithuania\",\n",
    "    \"luxembourg\",\n",
    "    \"malta\",\n",
    "    \"netherlands\",\n",
    "    \"poland\",\n",
    "    \"portugal\",\n",
    "    \"romania\",\n",
    "    \"slovakia\",\n",
    "    \"slovenia\",\n",
    "    \"spain\",\n",
    "    \"sweden\",\n",
    "}"
   ]
  },
  {
   "cell_type": "code",
   "execution_count": null,
   "metadata": {},
   "outputs": [],
   "source": [
    "quarterly_data.columns"
   ]
  },
  {
   "cell_type": "code",
   "execution_count": null,
   "metadata": {},
   "outputs": [],
   "source": [
    "quartertly_countries = set(quarterly_data[\"Country\"].unique())"
   ]
  },
  {
   "cell_type": "code",
   "execution_count": null,
   "metadata": {},
   "outputs": [],
   "source": [
    "common_countries = COUNTRIES_UNDER_STUDY.intersection(quartertly_countries)"
   ]
  },
  {
   "cell_type": "code",
   "execution_count": null,
   "metadata": {},
   "outputs": [],
   "source": [
    "common_countries"
   ]
  },
  {
   "cell_type": "markdown",
   "metadata": {},
   "source": [
    "# Parameters\n",
    "Find the parameters at https://data-explorer.oecd.org/vis?df[ds]=dsDisseminateFinalDMZ&df[id]=DSD_NAMAIN1%40DF_QNA_EXPENDITURE_USD&df[ag]=OECD.SDD.NAD&df[vs]=1.0&pd=%2C&dq=Q..AUS.S1..B1GQ.....V..&ly[cl]=TIME_PERIOD&to[TIME_PERIOD]=false&lo=5&lom=LASTNPERIODS "
   ]
  },
  {
   "cell_type": "code",
   "execution_count": null,
   "metadata": {},
   "outputs": [],
   "source": [
    "url = \"https://sdmx.oecd.org/public/rest/data/OECD.SDD.TPS,DSD_BOP@DF_BOP,1.0/USA..CA.B..Q.USD_EXC+XDC.N?dimensionAtObservation=AllDimensions\""
   ]
  },
  {
   "cell_type": "markdown",
   "metadata": {},
   "source": [
    "# Request Data"
   ]
  },
  {
   "cell_type": "code",
   "execution_count": null,
   "metadata": {},
   "outputs": [],
   "source": [
    "r = requests.get(url)"
   ]
  },
  {
   "cell_type": "code",
   "execution_count": null,
   "metadata": {},
   "outputs": [],
   "source": [
    "dictionary_data = xmltodict.parse(r.content)"
   ]
  },
  {
   "cell_type": "code",
   "execution_count": null,
   "metadata": {},
   "outputs": [],
   "source": [
    "dictionary_data"
   ]
  },
  {
   "cell_type": "code",
   "execution_count": null,
   "metadata": {},
   "outputs": [],
   "source": [
    "dictionary_data[\"message:GenericData\"][\"message:DataSet\"][\"generic:Obs\"]"
   ]
  },
  {
   "cell_type": "code",
   "execution_count": null,
   "metadata": {},
   "outputs": [],
   "source": [
    "observation_dictionary = dictionary_data[\"message:GenericData\"][\"message:DataSet\"][\n",
    "    \"generic:Obs\"\n",
    "][0]"
   ]
  },
  {
   "cell_type": "code",
   "execution_count": null,
   "metadata": {},
   "outputs": [],
   "source": [
    "dictionary_data[\"message:GenericData\"][\"message:DataSet\"][\"generic:Obs\"][0][\n",
    "    \"generic:ObsValue\"\n",
    "]"
   ]
  },
  {
   "cell_type": "code",
   "execution_count": null,
   "metadata": {},
   "outputs": [],
   "source": [
    "# 1. obskey\n",
    "obs_key_data = observation_dictionary[\"generic:ObsKey\"][\"generic:Value\"]\n",
    "obs_key_dict = {d[\"@id\"]: d[\"@value\"] for d in obs_key_data}"
   ]
  },
  {
   "cell_type": "code",
   "execution_count": null,
   "metadata": {},
   "outputs": [],
   "source": [
    "# Obs value\n",
    "obs_value_dict = observation_dictionary[\"generic:ObsValue\"]"
   ]
  },
  {
   "cell_type": "code",
   "execution_count": null,
   "metadata": {},
   "outputs": [],
   "source": [
    "# Obs value\n",
    "obs_attributes_data = observation_dictionary[\"generic:Attributes\"][\"generic:Value\"]\n",
    "obs_attributes_dict = {d[\"@id\"]: d[\"@value\"] for d in obs_attributes_data}"
   ]
  },
  {
   "cell_type": "code",
   "execution_count": null,
   "metadata": {},
   "outputs": [],
   "source": [
    "full_observation = {**obs_key_dict, **obs_value_dict, **obs_attributes_dict}"
   ]
  },
  {
   "cell_type": "code",
   "execution_count": null,
   "metadata": {},
   "outputs": [],
   "source": [
    "pd.DataFrame(full_observation, index=[0])"
   ]
  },
  {
   "cell_type": "code",
   "execution_count": null,
   "metadata": {},
   "outputs": [],
   "source": [
    "full_data = pd.DataFrame()"
   ]
  },
  {
   "cell_type": "code",
   "execution_count": null,
   "metadata": {},
   "outputs": [],
   "source": [
    "for i in range(\n",
    "    len(dictionary_data[\"message:GenericData\"][\"message:DataSet\"][\"generic:Obs\"]),\n",
    "):\n",
    "    observation_dictionary = dictionary_data[\"message:GenericData\"][\"message:DataSet\"][\n",
    "        \"generic:Obs\"\n",
    "    ][i]\n",
    "    # 1. obskey\n",
    "    obs_key_data = observation_dictionary[\"generic:ObsKey\"][\"generic:Value\"]\n",
    "    obs_key_dict = {d[\"@id\"]: d[\"@value\"] for d in obs_key_data}\n",
    "    # Obs value\n",
    "    obs_value_dict = observation_dictionary[\"generic:ObsValue\"]\n",
    "    # ObsAttributes\n",
    "    obs_attributes_data = observation_dictionary[\"generic:Attributes\"][\"generic:Value\"]\n",
    "    obs_attributes_dict = {d[\"@id\"]: d[\"@value\"] for d in obs_attributes_data}\n",
    "\n",
    "    full_observation = {**obs_key_dict, **obs_value_dict, **obs_attributes_dict}\n",
    "    full_data = pd.concat([full_data, pd.DataFrame(full_observation, index=[0])])"
   ]
  },
  {
   "cell_type": "code",
   "execution_count": null,
   "metadata": {},
   "outputs": [],
   "source": [
    "full_data.head()"
   ]
  },
  {
   "cell_type": "code",
   "execution_count": null,
   "metadata": {},
   "outputs": [],
   "source": [
    "full_data[\"COUNTERPART_AREA\"].unique()"
   ]
  },
  {
   "cell_type": "code",
   "execution_count": null,
   "metadata": {},
   "outputs": [],
   "source": [
    "# Set out everything about the request in the format specified by the OECD API\n",
    "data = oecd.data(resource_id=\"DSD_NAMAIN1\").to_pandas()\n",
    "\n",
    "df = pd.DataFrame(data).reset_index()\n",
    "df.head()"
   ]
  },
  {
   "cell_type": "code",
   "execution_count": null,
   "metadata": {},
   "outputs": [],
   "source": [
    "df[\"MEASURE\"]"
   ]
  },
  {
   "cell_type": "code",
   "execution_count": null,
   "metadata": {},
   "outputs": [],
   "source": [
    "# Tell pdmx we want OECD data\n",
    "oecd = pdmx.Request(\"OECD\")\n",
    "# Set out everything about the request in the format specified by the OECD API\n",
    "data = oecd.data(\n",
    "    resource_id=\"PDB_LV\",\n",
    "    key=\"GBR+FRA+CAN+ITA+DEU+JPN+USA.T_GDPEMP.CPC/all?startTime=2010\",\n",
    ").to_pandas()\n",
    "\n",
    "df = pd.DataFrame(data).reset_index()\n",
    "df.head()"
   ]
  },
  {
   "cell_type": "code",
   "execution_count": null,
   "metadata": {},
   "outputs": [],
   "source": [
    "data.content[\"OECD.SDD.NAD:DSD_NAMAIN1@DF_QNA_EXPENDITURE_CAPITA(1.0)\"]"
   ]
  },
  {
   "cell_type": "code",
   "execution_count": null,
   "metadata": {},
   "outputs": [],
   "source": [
    "pd.read_xml(\n",
    "    \"https://sdmx.oecd.org/public/rest/data/OECD.SDD.NAD,DSD_NAMAIN1@DF_QNA_EXPENDITURE_CAPITA,1.0/Q............?startPeriod=2022-Q4&dimensionAtObservation=AllDimensions\",\n",
    ")"
   ]
  }
 ],
 "metadata": {
  "language_info": {
   "codemirror_mode": {
    "name": "ipython",
    "version": 3
   },
   "file_extension": ".py",
   "mimetype": "text/x-python",
   "name": "python",
   "nbconvert_exporter": "python",
   "pygments_lexer": "ipython3"
  }
 },
 "nbformat": 4,
 "nbformat_minor": 2
}
