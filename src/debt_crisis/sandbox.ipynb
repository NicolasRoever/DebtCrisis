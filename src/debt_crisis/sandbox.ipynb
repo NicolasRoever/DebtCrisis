{
 "cells": [
  {
   "cell_type": "code",
   "execution_count": null,
   "metadata": {},
   "outputs": [],
   "source": [
    "import matplotlib.pyplot as plt\n",
    "import pandas as pd\n",
    "import requests\n",
    "import xmltodict"
   ]
  },
  {
   "cell_type": "code",
   "execution_count": null,
   "metadata": {},
   "outputs": [],
   "source": [
    "quarterly_data = pd.read_pickle(\n",
    "    \"/Users/nicolasroever/Documents/Promotion/Debt Crisis/debt_crisis/bld/data/step_one_regression_dataset_output_quarterly.pkl\",\n",
    ")"
   ]
  },
  {
   "cell_type": "code",
   "execution_count": null,
   "metadata": {},
   "outputs": [],
   "source": [
    "quarterly_data.columns"
   ]
  },
  {
   "cell_type": "code",
   "execution_count": null,
   "metadata": {},
   "outputs": [],
   "source": [
    "dictionary = pd.read_csv(\n",
    "    \"/Users/nicolasroever/Documents/Promotion/Debt Crisis/debt_crisis/bld/data/sentiment_data/sentiment_word_count_clean.csv\",\n",
    ")"
   ]
  },
  {
   "cell_type": "code",
   "execution_count": null,
   "metadata": {},
   "outputs": [],
   "source": [
    "dictionary.head()"
   ]
  },
  {
   "cell_type": "code",
   "execution_count": null,
   "metadata": {},
   "outputs": [],
   "source": [
    "# Plot positives\n",
    "\n",
    "# Filter the DataFrame\n",
    "filtered_data = dictionary[\n",
    "    (dictionary[\"Positive_Indicator\"] == 1) & (dictionary[\"Count\"] > 600)\n",
    "]\n",
    "\n",
    "# Sort the DataFrame\n",
    "sorted_data = filtered_data.sort_values(by=\"Count\", ascending=False)\n",
    "\n",
    "# Create the plot\n",
    "plt.figure(figsize=(10, 6))\n",
    "plt.barh(sorted_data[\"Word\"], sorted_data[\"Count\"])\n",
    "plt.xlabel(\"Word\")\n",
    "plt.ylabel(\"Count\")\n",
    "plt.title(\"Word Counts for Positive Words\")\n",
    "plt.yticks(fontsize=8)  # Rotate x-axis labels for better readability\n",
    "plt.show()"
   ]
  },
  {
   "cell_type": "code",
   "execution_count": null,
   "metadata": {},
   "outputs": [],
   "source": [
    "# Plot positives\n",
    "\n",
    "# Filter the DataFrame\n",
    "filtered_data_2 = dictionary[\n",
    "    (dictionary[\"Negative_Indicator\"] == 1) & (dictionary[\"Count\"] > 600)\n",
    "]\n",
    "\n",
    "# Sort the DataFrame\n",
    "sorted_data_2 = filtered_data_2.sort_values(by=\"Count\", ascending=False)\n",
    "\n",
    "# Create the plot\n",
    "plt.figure(figsize=(10, 6))\n",
    "plt.barh(sorted_data_2[\"Word\"], sorted_data_2[\"Count\"])\n",
    "plt.xlabel(\"Word\")\n",
    "plt.ylabel(\"Count\")\n",
    "plt.title(\"Word Counts for Negativev Words\")\n",
    "plt.yticks(fontsize=8)  # Rotate x-axis labels for better readability\n",
    "plt.show()"
   ]
  },
  {
   "cell_type": "code",
   "execution_count": null,
   "metadata": {},
   "outputs": [],
   "source": [
    "dictionary.sort_values(by=\"Count\", ascending=False)"
   ]
  },
  {
   "cell_type": "code",
   "execution_count": null,
   "metadata": {},
   "outputs": [],
   "source": []
  },
  {
   "cell_type": "code",
   "execution_count": null,
   "metadata": {},
   "outputs": [],
   "source": [
    "dictionary.T"
   ]
  },
  {
   "cell_type": "code",
   "execution_count": null,
   "metadata": {},
   "outputs": [],
   "source": [
    "dictionary.columns = [\"Word\", \"Count\"]"
   ]
  },
  {
   "cell_type": "code",
   "execution_count": null,
   "metadata": {},
   "outputs": [],
   "source": [
    "COUNTRIES_UNDER_STUDY = {\n",
    "    \"austria\",\n",
    "    \"belgium\",\n",
    "    \"bulgaria\",\n",
    "    \"croatia\",\n",
    "    \"cyprus\",\n",
    "    \"czechia\",\n",
    "    \"denmark\",\n",
    "    \"estonia\",\n",
    "    \"finland\",\n",
    "    \"france\",\n",
    "    \"germany\",\n",
    "    \"greece\",\n",
    "    \"hungary\",\n",
    "    \"ireland\",\n",
    "    \"italy\",\n",
    "    \"latvia\",\n",
    "    \"lithuania\",\n",
    "    \"luxembourg\",\n",
    "    \"malta\",\n",
    "    \"netherlands\",\n",
    "    \"poland\",\n",
    "    \"portugal\",\n",
    "    \"romania\",\n",
    "    \"slovakia\",\n",
    "    \"slovenia\",\n",
    "    \"spain\",\n",
    "    \"sweden\",\n",
    "}"
   ]
  },
  {
   "cell_type": "code",
   "execution_count": null,
   "metadata": {},
   "outputs": [],
   "source": [
    "quarterly_data.columns"
   ]
  },
  {
   "cell_type": "code",
   "execution_count": null,
   "metadata": {},
   "outputs": [],
   "source": [
    "quartertly_countries = set(quarterly_data[\"Country\"].unique())"
   ]
  },
  {
   "cell_type": "code",
   "execution_count": null,
   "metadata": {},
   "outputs": [],
   "source": [
    "common_countries = COUNTRIES_UNDER_STUDY.intersection(quartertly_countries)"
   ]
  },
  {
   "cell_type": "code",
   "execution_count": null,
   "metadata": {},
   "outputs": [],
   "source": [
    "common_countries"
   ]
  },
  {
   "cell_type": "markdown",
   "metadata": {},
   "source": [
    "# Parameters\n",
    "Find the parameters at https://data-explorer.oecd.org/vis?df[ds]=dsDisseminateFinalDMZ&df[id]=DSD_NAMAIN1%40DF_QNA_EXPENDITURE_USD&df[ag]=OECD.SDD.NAD&df[vs]=1.0&pd=%2C&dq=Q..AUS.S1..B1GQ.....V..&ly[cl]=TIME_PERIOD&to[TIME_PERIOD]=false&lo=5&lom=LASTNPERIODS "
   ]
  },
  {
   "cell_type": "code",
   "execution_count": null,
   "metadata": {},
   "outputs": [],
   "source": [
    "url = \"https://sdmx.oecd.org/public/rest/data/OECD.SDD.TPS,DSD_BOP@DF_BOP,1.0/USA..CA.B..Q.USD_EXC+XDC.N?dimensionAtObservation=AllDimensions\""
   ]
  },
  {
   "cell_type": "markdown",
   "metadata": {},
   "source": [
    "# Request Data"
   ]
  },
  {
   "cell_type": "code",
   "execution_count": null,
   "metadata": {},
   "outputs": [],
   "source": [
    "r = requests.get(url)"
   ]
  },
  {
   "cell_type": "code",
   "execution_count": null,
   "metadata": {},
   "outputs": [],
   "source": [
    "dictionary_data = xmltodict.parse(r.content)"
   ]
  },
  {
   "cell_type": "code",
   "execution_count": null,
   "metadata": {},
   "outputs": [],
   "source": [
    "dictionary_data"
   ]
  },
  {
   "cell_type": "code",
   "execution_count": null,
   "metadata": {},
   "outputs": [],
   "source": [
    "dictionary_data[\"message:GenericData\"][\"message:DataSet\"][\"generic:Obs\"]"
   ]
  },
  {
   "cell_type": "code",
   "execution_count": null,
   "metadata": {},
   "outputs": [],
   "source": [
    "observation_dictionary = dictionary_data[\"message:GenericData\"][\"message:DataSet\"][\n",
    "    \"generic:Obs\"\n",
    "][0]"
   ]
  },
  {
   "cell_type": "code",
   "execution_count": null,
   "metadata": {},
   "outputs": [],
   "source": [
    "dictionary_data[\"message:GenericData\"][\"message:DataSet\"][\"generic:Obs\"][0][\n",
    "    \"generic:ObsValue\"\n",
    "]"
   ]
  },
  {
   "cell_type": "code",
   "execution_count": null,
   "metadata": {},
   "outputs": [],
   "source": [
    "# 1. obskey\n",
    "obs_key_data = observation_dictionary[\"generic:ObsKey\"][\"generic:Value\"]\n",
    "obs_key_dict = {d[\"@id\"]: d[\"@value\"] for d in obs_key_data}"
   ]
  },
  {
   "cell_type": "code",
   "execution_count": null,
   "metadata": {},
   "outputs": [],
   "source": [
    "# Obs value\n",
    "obs_value_dict = observation_dictionary[\"generic:ObsValue\"]"
   ]
  },
  {
   "cell_type": "code",
   "execution_count": null,
   "metadata": {},
   "outputs": [],
   "source": [
    "# Obs value\n",
    "obs_attributes_data = observation_dictionary[\"generic:Attributes\"][\"generic:Value\"]\n",
    "obs_attributes_dict = {d[\"@id\"]: d[\"@value\"] for d in obs_attributes_data}"
   ]
  },
  {
   "cell_type": "code",
   "execution_count": null,
   "metadata": {},
   "outputs": [],
   "source": [
    "full_observation = {**obs_key_dict, **obs_value_dict, **obs_attributes_dict}"
   ]
  },
  {
   "cell_type": "code",
   "execution_count": null,
   "metadata": {},
   "outputs": [],
   "source": [
    "pd.DataFrame(full_observation, index=[0])"
   ]
  },
  {
   "cell_type": "code",
   "execution_count": null,
   "metadata": {},
   "outputs": [],
   "source": [
    "full_data = pd.DataFrame()"
   ]
  },
  {
   "cell_type": "code",
   "execution_count": null,
   "metadata": {},
   "outputs": [],
   "source": [
    "for i in range(\n",
    "    len(dictionary_data[\"message:GenericData\"][\"message:DataSet\"][\"generic:Obs\"]),\n",
    "):\n",
    "    observation_dictionary = dictionary_data[\"message:GenericData\"][\"message:DataSet\"][\n",
    "        \"generic:Obs\"\n",
    "    ][i]\n",
    "    # 1. obskey\n",
    "    obs_key_data = observation_dictionary[\"generic:ObsKey\"][\"generic:Value\"]\n",
    "    obs_key_dict = {d[\"@id\"]: d[\"@value\"] for d in obs_key_data}\n",
    "    # Obs value\n",
    "    obs_value_dict = observation_dictionary[\"generic:ObsValue\"]\n",
    "    # ObsAttributes\n",
    "    obs_attributes_data = observation_dictionary[\"generic:Attributes\"][\"generic:Value\"]\n",
    "    obs_attributes_dict = {d[\"@id\"]: d[\"@value\"] for d in obs_attributes_data}\n",
    "\n",
    "    full_observation = {**obs_key_dict, **obs_value_dict, **obs_attributes_dict}\n",
    "    full_data = pd.concat([full_data, pd.DataFrame(full_observation, index=[0])])"
   ]
  },
  {
   "cell_type": "code",
   "execution_count": null,
   "metadata": {},
   "outputs": [],
   "source": [
    "full_data.head()"
   ]
  },
  {
   "cell_type": "code",
   "execution_count": null,
   "metadata": {},
   "outputs": [],
   "source": [
    "full_data[\"COUNTERPART_AREA\"].unique()"
   ]
  },
  {
   "cell_type": "code",
   "execution_count": null,
   "metadata": {},
   "outputs": [],
   "source": [
    "# Set out everything about the request in the format specified by the OECD API\n",
    "data = oecd.data(resource_id=\"DSD_NAMAIN1\").to_pandas()\n",
    "\n",
    "df = pd.DataFrame(data).reset_index()\n",
    "df.head()"
   ]
  },
  {
   "cell_type": "code",
   "execution_count": null,
   "metadata": {},
   "outputs": [],
   "source": [
    "df[\"MEASURE\"]"
   ]
  },
  {
   "cell_type": "code",
   "execution_count": null,
   "metadata": {},
   "outputs": [],
   "source": [
    "# Tell pdmx we want OECD data\n",
    "oecd = pdmx.Request(\"OECD\")\n",
    "# Set out everything about the request in the format specified by the OECD API\n",
    "data = oecd.data(\n",
    "    resource_id=\"PDB_LV\",\n",
    "    key=\"GBR+FRA+CAN+ITA+DEU+JPN+USA.T_GDPEMP.CPC/all?startTime=2010\",\n",
    ").to_pandas()\n",
    "\n",
    "df = pd.DataFrame(data).reset_index()\n",
    "df.head()"
   ]
  },
  {
   "cell_type": "code",
   "execution_count": null,
   "metadata": {},
   "outputs": [],
   "source": [
    "data.content[\"OECD.SDD.NAD:DSD_NAMAIN1@DF_QNA_EXPENDITURE_CAPITA(1.0)\"]"
   ]
  },
  {
   "cell_type": "code",
   "execution_count": null,
   "metadata": {},
   "outputs": [],
   "source": [
    "pd.read_xml(\n",
    "    \"https://sdmx.oecd.org/public/rest/data/OECD.SDD.NAD,DSD_NAMAIN1@DF_QNA_EXPENDITURE_CAPITA,1.0/Q............?startPeriod=2022-Q4&dimensionAtObservation=AllDimensions\",\n",
    ")"
   ]
  }
 ],
 "metadata": {
  "language_info": {
   "codemirror_mode": {
    "name": "ipython",
    "version": 3
   },
   "file_extension": ".py",
   "mimetype": "text/x-python",
   "name": "python",
   "nbconvert_exporter": "python",
   "pygments_lexer": "ipython3"
  }
 },
 "nbformat": 4,
 "nbformat_minor": 2
}
