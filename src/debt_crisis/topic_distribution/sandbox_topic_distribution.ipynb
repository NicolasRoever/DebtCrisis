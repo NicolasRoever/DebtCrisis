{
 "cells": [
  {
   "cell_type": "markdown",
   "metadata": {},
   "source": [
    "# Topic Distribution "
   ]
  },
  {
   "cell_type": "code",
   "execution_count": null,
   "metadata": {},
   "outputs": [],
   "source": [
    "import pandas as pd\n",
    "import plotly.express as px"
   ]
  },
  {
   "cell_type": "code",
   "execution_count": null,
   "metadata": {},
   "outputs": [],
   "source": [
    "data = pd.read_csv(\n",
    "    \"/Users/nicolasroever/Documents/Promotion/Debt_Crisis/debt_crisis/src/debt_crisis/data/llm_reasoning_with_topics/llm_reasoning_with_topics.csv\",\n",
    ")\n",
    "clean_transcripts = pd.read_pickle(\n",
    "    \"/Users/nicolasroever/Documents/Promotion/Debt_Crisis/debt_crisis/bld/data/df_transcripts_raw.pkl\",\n",
    ")\n",
    "clean_snippets_with_date = pd.read_pickle(\n",
    "    \"/Users/nicolasroever/Documents/Promotion/Debt_Crisis/debt_crisis/bld/data/gpt_sentiment_data/df_gpt_sentiment_training_dataset_cleaned.pkl\",\n",
    ")[[\"Transcript_ID\", \"Snippet_ID\"]]\n",
    "\n",
    "topic_words = pd.read_csv(\n",
    "    \"/Users/nicolasroever/Documents/Promotion/Debt_Crisis/debt_crisis/src/debt_crisis/data/llm_reasoning_with_topics/topic_words.csv\",\n",
    "    sep=\";\",\n",
    ")"
   ]
  },
  {
   "cell_type": "code",
   "execution_count": null,
   "metadata": {},
   "outputs": [],
   "source": [
    "topic_words = topic_words[topic_words[\"Number of Topics\"] == 40]\n",
    "topic_words[\"Top Words\"] = topic_words[\"Top Words\"].apply(\n",
    "    lambda x: \" \".join(x.split()[:3]),\n",
    ")"
   ]
  },
  {
   "cell_type": "code",
   "execution_count": null,
   "metadata": {},
   "outputs": [],
   "source": [
    "# Merge data with clean_transcripts\n",
    "data = data.merge(\n",
    "    clean_snippets_with_date,\n",
    "    how=\"left\",\n",
    "    left_on=\"Snippet_ID\",\n",
    "    right_on=\"Snippet_ID\",\n",
    "    validate=\"one_to_one\",\n",
    ")"
   ]
  },
  {
   "cell_type": "code",
   "execution_count": null,
   "metadata": {},
   "outputs": [],
   "source": [
    "data = data.merge(\n",
    "    clean_transcripts,\n",
    "    how=\"left\",\n",
    "    left_on=\"Transcript_ID\",\n",
    "    right_on=\"Transcript_ID\",\n",
    "    validate=\"many_to_one\",\n",
    ")"
   ]
  },
  {
   "cell_type": "code",
   "execution_count": null,
   "metadata": {},
   "outputs": [],
   "source": [
    "data = data.merge(\n",
    "    topic_words,\n",
    "    how=\"left\",\n",
    "    left_on=\"Topic_40\",\n",
    "    right_on=\"Topic Index\",\n",
    "    validate=\"many_to_one\",\n",
    ")"
   ]
  },
  {
   "cell_type": "code",
   "execution_count": null,
   "metadata": {},
   "outputs": [],
   "source": [
    "data[\"Total_Occurrence_of_Topic\"] = data.groupby(\"Topic Index\")[\n",
    "    \"Topic Index\"\n",
    "].transform(\"count\")"
   ]
  },
  {
   "cell_type": "code",
   "execution_count": null,
   "metadata": {},
   "outputs": [],
   "source": [
    "data.head()"
   ]
  },
  {
   "cell_type": "code",
   "execution_count": null,
   "metadata": {},
   "outputs": [],
   "source": [
    "data = data[data[\"Total_Occurrence_of_Topic\"] > 1000]"
   ]
  },
  {
   "cell_type": "code",
   "execution_count": null,
   "metadata": {},
   "outputs": [],
   "source": [
    "# First, let's group the dataframe by 'Top Words' and count the occurrences of each topic.\n",
    "df_top_words_occurrence = data.groupby(\"Top Words\")[\"Topic Index\"].count().reset_index()\n",
    "\n",
    "# Rename the columns for clarity\n",
    "df_top_words_occurrence.columns = [\"Top Words\", \"Total Occurrence of Topic\"]"
   ]
  },
  {
   "cell_type": "code",
   "execution_count": null,
   "metadata": {},
   "outputs": [],
   "source": [
    "# Creating the bar chart with Plotly for Topic_40 with Top Words as labels\n",
    "fig = px.bar(\n",
    "    df_top_words_occurrence,\n",
    "    y=\"Top Words\",\n",
    "    x=\"Total Occurrence of Topic\",\n",
    "    title=\"Topic 40 Analysis\",\n",
    "    labels={\n",
    "        \"Top Words\": \"Top Words\",\n",
    "        \"Total Occurrence of Topic\": \"Total Occurrence of Topic\",\n",
    "    },\n",
    "    orientation=\"h\",\n",
    ")\n",
    "\n",
    "# Update layout to improve readability of labels and reduce space between bars\n",
    "fig.update_layout(\n",
    "    yaxis_tickangle=0,  # No tilt needed for horizontal bars\n",
    "    yaxis_title=\"Top Words\",\n",
    "    xaxis_title=\"Total Occurrence of Topic\",\n",
    "    bargap=0.2,  # Reduce the gap between bars\n",
    "    height=800,  # Increase height for better spacing of labels\n",
    ")\n",
    "\n",
    "# Customize bar appearance\n",
    "fig.update_traces(\n",
    "    marker_color=\"rgb(158,202,225)\",\n",
    "    marker_line_color=\"rgb(8,48,107)\",\n",
    "    marker_line_width=1.5,\n",
    "    opacity=0.6,\n",
    ")\n",
    "\n",
    "# Sort bars in descending order\n",
    "fig.update_yaxes(categoryorder=\"total descending\")\n",
    "\n",
    "# Display the plot\n",
    "fig.show()"
   ]
  },
  {
   "cell_type": "code",
   "execution_count": null,
   "metadata": {},
   "outputs": [],
   "source": [
    "# Group the dataframe by 'Top Words' and sum the 'Prediction' column\n",
    "df_topic_scores = data.groupby(\"Top Words\")[\"Prediction\"].sum().reset_index()\n",
    "\n",
    "# Rename the columns for clarity\n",
    "df_topic_scores.columns = [\"Top Words\", \"Sum of Prediction\"]"
   ]
  },
  {
   "cell_type": "code",
   "execution_count": null,
   "metadata": {},
   "outputs": [],
   "source": [
    "df_topic_scores.head()"
   ]
  },
  {
   "cell_type": "code",
   "execution_count": null,
   "metadata": {},
   "outputs": [],
   "source": [
    "# Creating the bar chart with Plotly for Topic_40 with Top Words as labels\n",
    "fig = px.bar(\n",
    "    df_topic_scores,\n",
    "    y=\"Top Words\",\n",
    "    x=\"Sum of Prediction\",\n",
    "    title=\"Topic 40 Analysis\",\n",
    "    labels={\"Top Words\": \"Top Words\", \"Sum of Prediction\": \"Sum of Prediction\"},\n",
    "    orientation=\"h\",\n",
    ")\n",
    "\n",
    "# Update layout to improve readability of labels and reduce space between bars\n",
    "fig.update_layout(\n",
    "    yaxis_tickangle=0,  # No tilt needed for horizontal bars\n",
    "    yaxis_title=\"Top Words\",\n",
    "    xaxis_title=\"Total Sum of GPT Scores\",\n",
    "    bargap=0.2,  # Reduce the gap between bars\n",
    "    height=800,  # Increase height for better spacing of labels\n",
    ")\n",
    "\n",
    "# Customize bar appearance\n",
    "fig.update_traces(\n",
    "    marker_color=\"rgb(158,202,225)\",\n",
    "    marker_line_color=\"rgb(8,48,107)\",\n",
    "    marker_line_width=1.5,\n",
    "    opacity=0.6,\n",
    ")\n",
    "\n",
    "# Sort bars in descending order\n",
    "fig.update_yaxes(categoryorder=\"total descending\")\n",
    "\n",
    "# Display the plot\n",
    "fig.show()"
   ]
  },
  {
   "cell_type": "code",
   "execution_count": null,
   "metadata": {},
   "outputs": [],
   "source": [
    "# First, let's ensure that the Date column is in datetime format\n",
    "data[\"Date\"] = pd.to_datetime(data[\"Date\"], errors=\"coerce\")\n",
    "\n",
    "# Extract the quarter and year from the Date column for grouping\n",
    "data[\"Year_Quarter\"] = data[\"Date\"].dt.to_period(\"Q\").astype(str)\n",
    "\n",
    "data_filter = data[data[\"Total_Occurrence_of_Topic\"] > 4500]\n",
    "\n",
    "# Group the dataframe by 'Top Words' and 'Year_Quarter' and sum the 'Prediction' column\n",
    "df_quarterly_sum = (\n",
    "    data_filter.groupby([\"Top Words\", \"Year_Quarter\"])[\"Prediction\"].sum().reset_index()\n",
    ")\n",
    "\n",
    "# Rename columns for clarity\n",
    "df_quarterly_sum.columns = [\"Top Words\", \"Year_Quarter\", \"Sum of Prediction\"]"
   ]
  },
  {
   "cell_type": "code",
   "execution_count": null,
   "metadata": {},
   "outputs": [],
   "source": [
    "# Plotting the time series with Plotly\n",
    "fig = px.line(\n",
    "    df_quarterly_sum,\n",
    "    x=\"Year_Quarter\",\n",
    "    y=\"Sum of Prediction\",\n",
    "    color=\"Top Words\",\n",
    "    title=\"Sum of Predictions per Top Words Over Time (only topics with over 4500 occurences)\",\n",
    "    labels={\"Year_Quarter\": \"Quarter\", \"Sum of Prediction\": \"Sum of Predictions\"},\n",
    ")\n",
    "\n",
    "fig.show()"
   ]
  }
 ],
 "metadata": {
  "language_info": {
   "codemirror_mode": {
    "name": "ipython",
    "version": 3
   },
   "file_extension": ".py",
   "mimetype": "text/x-python",
   "name": "python",
   "nbconvert_exporter": "python",
   "pygments_lexer": "ipython3"
  }
 },
 "nbformat": 4,
 "nbformat_minor": 2
}
